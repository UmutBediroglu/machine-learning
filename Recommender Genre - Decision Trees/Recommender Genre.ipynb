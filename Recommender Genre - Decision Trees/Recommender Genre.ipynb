{
 "cells": [
  {
   "cell_type": "markdown",
   "metadata": {},
   "source": [
    "<h3>Recommended Genre of the Music</h3>\n",
    "<p>\n",
    "    <li>1. Import the Data</li> \n",
    "    <li>2. Clean the Data</li>\n",
    "    <li>3. Split Data into Training/Test Sets</li>\n",
    "    <li>4. Create a Model</li>\n",
    "    <li>5. Train the Model</li>\n",
    "    <li>6. Make Predictions</li>\n",
    "    <li>7. Evaluate and Improve</li> \n",
    "</p>"
   ]
  },
  {
   "cell_type": "code",
   "execution_count": 1,
   "metadata": {},
   "outputs": [
    {
     "data": {
      "text/plain": [
       "array(['HipHop'], dtype=object)"
      ]
     },
     "execution_count": 1,
     "metadata": {},
     "output_type": "execute_result"
    }
   ],
   "source": [
    "import pandas as pd\n",
    "from sklearn.tree import DecisionTreeClassifier\n",
    "from sklearn.model_selection import train_test_split\n",
    "from sklearn.metrics import accuracy_score\n",
    "import joblib\n",
    "\n",
    "music_data= pd.read_csv(\"music.csv\")\n",
    "#input data\n",
    "X= music_data.drop(columns=[\"genre\"])\n",
    "#output data\n",
    "y= music_data[\"genre\"]\n",
    "\n",
    "#Measuring the accuracy\n",
    "X_train, X_test, y_train, y_test = train_test_split(X, y, test_size=0.2)\n",
    "\n",
    "#Treaning the algorithm\n",
    "model= DecisionTreeClassifier()\n",
    "\n",
    "#Gives input and output\n",
    "model.fit(X_train, y_train)\n",
    "\n",
    "#Assuming the data\n",
    "predictions = model.predict(X_test)\n",
    "\n",
    "score = accuracy_score(y_test, predictions)\n",
    "score\n",
    "\n",
    "#Save the training\n",
    "joblib.dump(model, \"music-recommender.joblib\")\n",
    "\n",
    "#Open the model and preditions\n",
    "model = joblib.load(\"music-recommender.joblib\")\n",
    "predictions = model.predict([[21,1]])\n",
    "predictions"
   ]
  },
  {
   "cell_type": "code",
   "execution_count": 2,
   "metadata": {},
   "outputs": [],
   "source": [
    "#Visualizing Decision Trees\n",
    "from sklearn import tree\n",
    "tree.export_graphviz(model, out_file=\"music-recommender.dot\",\n",
    "                     feature_names=[\"age\",\"gender\"],\n",
    "                      class_names=sorted(y.unique()),\n",
    "                      label=\"all\",\n",
    "                      rounded=True,\n",
    "                      filled=True)\n",
    "#filled: color, rounded: rounded the corners, label: they can be read\n",
    "#class_names: each value have unique parameters\n",
    "#feature_names: columns"
   ]
  }
 ],
 "metadata": {
  "kernelspec": {
   "display_name": "Python 3",
   "language": "python",
   "name": "python3"
  },
  "language_info": {
   "codemirror_mode": {
    "name": "ipython",
    "version": 3
   },
   "file_extension": ".py",
   "mimetype": "text/x-python",
   "name": "python",
   "nbconvert_exporter": "python",
   "pygments_lexer": "ipython3",
   "version": "3.8.5"
  }
 },
 "nbformat": 4,
 "nbformat_minor": 4
}
