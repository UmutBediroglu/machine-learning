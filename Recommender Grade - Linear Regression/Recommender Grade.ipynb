{
 "cells": [
  {
   "cell_type": "markdown",
   "metadata": {},
   "source": [
    "<h3>Recommended Grade of the Student</h3>"
   ]
  },
  {
   "cell_type": "code",
   "execution_count": 14,
   "metadata": {},
   "outputs": [],
   "source": [
    "import pandas as pd\n",
    "import numpy as np\n",
    "import sklearn\n",
    "from sklearn import linear_model\n",
    "from sklearn.utils import shuffle\n",
    "from sklearn.model_selection import train_test_split\n",
    "import matplotlib.pyplot as pyplot\n",
    "import pickle\n",
    "from matplotlib import style"
   ]
  },
  {
   "cell_type": "code",
   "execution_count": 15,
   "metadata": {},
   "outputs": [
    {
     "name": "stdout",
     "output_type": "stream",
     "text": [
      "   G1  G2  G3  studytime  failures  absences\n",
      "0   5   6   6          2         0         6\n",
      "1   5   5   6          2         0         4\n",
      "2   7   8  10          2         3        10\n",
      "3  15  14  15          3         0         2\n",
      "4   6  10  10          2         0         4\n"
     ]
    }
   ],
   "source": [
    "data = pd.read_csv(\"student-mat.csv\", sep=\";\")\n",
    "data = data[[\"G1\",\"G2\",\"G3\",\"studytime\",\"failures\",\"absences\"]]\n",
    "print(data.head())"
   ]
  },
  {
   "cell_type": "code",
   "execution_count": 16,
   "metadata": {},
   "outputs": [],
   "source": [
    "predict = \"G3\"\n",
    "\n",
    "#training\n",
    "X = np.array(data.drop(columns=[predict]))\n",
    "#assume\n",
    "y = np.array(data[[predict]])"
   ]
  },
  {
   "cell_type": "code",
   "execution_count": 17,
   "metadata": {},
   "outputs": [],
   "source": [
    "X_train, X_test, y_train, y_test = sklearn.model_selection.train_test_split(X, y, test_size = 0.2)"
   ]
  },
  {
   "cell_type": "code",
   "execution_count": 18,
   "metadata": {},
   "outputs": [],
   "source": [
    "best = 0 \n",
    "for i in range(30):\n",
    "    X_train, X_test, y_train, y_test = sklearn.model_selection.train_test_split(X, y, test_size = 0.2)\n",
    "    linear = linear_model.LinearRegression()\n",
    "    linear.fit(X_train, y_train)\n",
    "\n",
    "    #Measuring the accuracy\n",
    "    acc = linear.score(X_test, y_test)\n",
    "    #print(acc)\n",
    "    \n",
    "    if acc > best:\n",
    "        best = acc\n",
    "        with open (\"student.pickle\", \"wb\") as f:\n",
    "            pickle.dump(linear, f)\n",
    "\n",
    "pickle_in = open (\"student.pickle\", \"rb\")\n",
    "linear = pickle.load(pickle_in)"
   ]
  },
  {
   "cell_type": "code",
   "execution_count": 19,
   "metadata": {},
   "outputs": [
    {
     "name": "stdout",
     "output_type": "stream",
     "text": [
      "[8.83580325] [11  9  3  0 10] [10]\n",
      "[16.19755083] [14 16  1  0  3] [16]\n",
      "[9.57953694] [10 10  2  0  4] [11]\n",
      "[12.59361346] [11 13  2  0  2] [14]\n",
      "[14.92116251] [15 15  3  0  0] [15]\n",
      "[14.61670972] [13 15  3  0  0] [15]\n",
      "[3.62387789] [7 5 3 1 0] [0]\n",
      "[11.91013227] [14 12  4  0  6] [13]\n",
      "[12.03687386] [10 12  2  0 16] [11]\n",
      "[10.71013893] [11 11  1  0  0] [10]\n",
      "[7.23591742] [ 8  8  4  0 10] [8]\n",
      "[9.10069472] [ 9 10  3  0  0] [0]\n",
      "[12.76800289] [10 13  1  0  6] [13]\n",
      "[15.6472513] [16 15  2  0 10] [15]\n",
      "[4.92886932] [7 6 1 1 0] [0]\n",
      "[15.63160036] [17 15  1  0  2] [15]\n",
      "[15.750358] [14 16  3  0  0] [16]\n",
      "[10.63076969] [11 11  2  0  2] [11]\n",
      "[8.4966548] [8 9 1 0 5] [9]\n",
      "[8.29061598] [8 9 1 0 0] [8]\n",
      "[11.87342701] [15 12  2  1  0] [12]\n",
      "[12.66342433] [12 13  2  0  0] [14]\n",
      "[9.27203787] [ 8 10  1  0  0] [11]\n",
      "[15.3175892] [16 15  2  0  2] [15]\n",
      "[3.26471181] [6 5 1 3 0] [0]\n",
      "[10.38656939] [11 11  3  0  0] [10]\n",
      "[13.24033301] [12 13  2  0 14] [12]\n",
      "[6.87711448] [ 9  7  2  1 20] [8]\n",
      "[12.68558736] [10 13  1  0  4] [14]\n",
      "[9.09113634] [10 10  4  0  0] [10]\n",
      "[15.20005847] [16 15  4  0  7] [17]\n",
      "[-0.54218098] [8 0 1 0 0] [0]\n",
      "[12.39853286] [14 12  2  0 10] [11]\n",
      "[14.78805287] [12 15  1  0  0] [15]\n",
      "[16.36882195] [17 16  2  0  0] [16]\n",
      "[15.24777833] [15 15  2  0  4] [15]\n",
      "[7.06804008] [8 8 3 0 2] [10]\n",
      "[10.63076969] [11 11  2  0  2] [11]\n",
      "[-1.79462401] [5 0 1 3 0] [0]\n",
      "[7.65303528] [7 9 4 0 0] [0]\n",
      "[18.17943933] [16 18  2  0  0] [18]\n",
      "[9.42731054] [ 9 10  2  0  4] [10]\n",
      "[7.14740933] [8 8 2 0 0] [9]\n",
      "[14.86091002] [13 15  2  0  2] [16]\n",
      "[9.14945127] [10 10  2  1  0] [0]\n",
      "[10.71318522] [11 11  2  0  4] [11]\n",
      "[6.73948669] [6 8 1 1 0] [8]\n",
      "[5.86153466] [6 7 2 0 0] [0]\n",
      "[3.91129554] [5 5 2 0 4] [6]\n",
      "[11.65138975] [13 12  2  1  2] [12]\n",
      "[-0.40907134] [11  0  3  0  0] [0]\n",
      "[11.97689685] [15 12  3  0  0] [14]\n",
      "[15.98499992] [15 16  3  0  2] [18]\n",
      "[2.70077093] [7 4 1 2 0] [0]\n",
      "[16.19103873] [15 16  3  0  7] [15]\n",
      "[10.56095882] [10 11  2  0  4] [9]\n",
      "[13.13270817] [14 13  2  0  4] [13]\n",
      "[18.17943933] [16 18  2  0  0] [19]\n",
      "[10.22478462] [11 11  4  0  0] [11]\n",
      "[15.60299726] [16 15  1  0  5] [16]\n",
      "[15.1653628] [15 15  2  0  2] [16]\n",
      "[18.49345049] [17 18  1  0  0] [18]\n",
      "[10.4785433] [10 11  2  0  2] [11]\n",
      "[17.02667429] [17 17  4  0  0] [18]\n",
      "[7.49485213] [8 9 1 3 0] [10]\n",
      "[8.84536163] [10  9  2  0 10] [10]\n",
      "[8.36866482] [ 9  9  2  2 15] [9]\n",
      "[4.37212972] [ 6  5  1  1 14] [5]\n",
      "[12.81565072] [13 13  2  0  0] [13]\n",
      "[12.89806625] [13 13  2  0  2] [13]\n",
      "[5.92630529] [ 8  6  2  0 18] [7]\n",
      "[6.29916911] [7 7 1 0 3] [8]\n",
      "[3.79522104] [6 5 1 1 0] [0]\n",
      "[13.80663098] [12 14  1  0  0] [15]\n",
      "[10.16453213] [ 9 11  3  0  2] [11]\n",
      "[11.99601361] [13 12  1  0  0] [12]\n",
      "[5.85502256] [7 7 4 0 4] [6]\n",
      "[18.97533899] [18 18  1  0  8] [18]\n",
      "[10.71117562] [13 11  2  1  3] [11]\n"
     ]
    }
   ],
   "source": [
    "predict = linear.predict(X_test)\n",
    "for i in range(len(predict)):\n",
    "    print(predict[i], X_test[i], y_test[i])"
   ]
  },
  {
   "cell_type": "code",
   "execution_count": 20,
   "metadata": {},
   "outputs": [
    {
     "data": {
      "image/png": "[encoded data removed]",
      "text/plain": [
       "<Figure size 432x288 with 1 Axes>"
      ]
     },
     "metadata": {},
     "output_type": "display_data"
    }
   ],
   "source": [
    "p= \"G2\"\n",
    "\n",
    "style.use(\"ggplot\")\n",
    "pyplot.scatter(data[p], data[\"G3\"])\n",
    "pyplot.xlabel(p)\n",
    "pyplot.ylabel(\"Final Grade\")\n",
    "pyplot.show()"
   ]
  }
 ],
 "metadata": {
  "kernelspec": {
   "display_name": "Python 3",
   "language": "python",
   "name": "python3"
  },
  "language_info": {
   "codemirror_mode": {
    "name": "ipython",
    "version": 3
   },
   "file_extension": ".py",
   "mimetype": "text/x-python",
   "name": "python",
   "nbconvert_exporter": "python",
   "pygments_lexer": "ipython3",
   "version": "3.8.5"
  }
 },
 "nbformat": 4,
 "nbformat_minor": 4
}
